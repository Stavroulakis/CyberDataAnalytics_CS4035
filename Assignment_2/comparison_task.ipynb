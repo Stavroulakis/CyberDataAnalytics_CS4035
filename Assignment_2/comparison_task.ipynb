{
 "cells": [
  {
   "cell_type": "code",
   "execution_count": 1,
   "metadata": {},
   "outputs": [],
   "source": [
    "import numpy as np\n",
    "import pandas as pd\n",
    "from sklearn.metrics import confusion_matrix\n",
    "import matplotlib.pyplot as plt"
   ]
  },
  {
   "cell_type": "code",
   "execution_count": 2,
   "metadata": {},
   "outputs": [],
   "source": [
    "pca_predicted_labels = pd.read_csv('pca_predicted_labels.csv')\n",
    "arma_predicted_labels = pd.read_csv('new.csv')\n",
    "sax_predicted_labels = pd.read_csv('sax_predictions.csv')"
   ]
  },
  {
   "cell_type": "code",
   "execution_count": 3,
   "metadata": {},
   "outputs": [
    {
     "name": "stdout",
     "output_type": "stream",
     "text": [
      "(12, 20, 114, 4031)\n"
     ]
    }
   ],
   "source": [
    "#metrics for PCA/ARMA\n",
    "tn, fp, fn, tp=confusion_matrix(arma_predicted_labels['ATT_FLAG'], pca_predicted_labels).ravel()\n",
    "print(tp,fn,fp,tn)"
   ]
  },
  {
   "cell_type": "code",
   "execution_count": 4,
   "metadata": {},
   "outputs": [
    {
     "name": "stdout",
     "output_type": "stream",
     "text": [
      "Overlap-based TP and FP for ARMA/PCA \n",
      "('TP:', 12)\n",
      "('FP:', 114)\n",
      "The two models gave the same label to: 4043\n",
      "The two models gave the different label to: 134\n",
      "Accuracy: 96.79\n",
      "Precision: 9.52\n",
      "Recall: 37.50\n",
      "F_score: 15.19\n"
     ]
    }
   ],
   "source": [
    "Accuracy=100.0*(tp+tn)/(tp+tn+fp+fn)\n",
    "Precision=100.0*tp / (tp + fp)\n",
    "Recall = 100.0*tp / (tp + fn)\n",
    "F_score = 100.0*2*tp /(2*tp + fp + fn)\n",
    "print(\"Overlap-based TP and FP for ARMA/PCA \")\n",
    "print (\"TP:\", tp)\n",
    "print (\"FP:\", fp)\n",
    "print (\"The two models gave the same label to: %s\" %(tp+tn))\n",
    "print (\"The two models gave the different label to: %s\" %(fp+fn))\n",
    "print(\"Accuracy: %.2f\" % Accuracy)\n",
    "print(\"Precision: %.2f\" % Precision)\n",
    "print(\"Recall: %.2f\" %Recall)\n",
    "print(\"F_score: %.2f\" % F_score)"
   ]
  },
  {
   "cell_type": "code",
   "execution_count": 5,
   "metadata": {},
   "outputs": [
    {
     "name": "stdout",
     "output_type": "stream",
     "text": [
      "(66, 366, 60, 3685)\n"
     ]
    }
   ],
   "source": [
    "#metrics for PCA/SAX\n",
    "tn, fp, fn, tp=confusion_matrix(sax_predicted_labels, pca_predicted_labels).ravel()\n",
    "print(tp,fn,fp,tn)"
   ]
  },
  {
   "cell_type": "code",
   "execution_count": 7,
   "metadata": {},
   "outputs": [
    {
     "name": "stdout",
     "output_type": "stream",
     "text": [
      "Overlap-based TP and FP for PCA/SAX \n",
      "('TP:', 66)\n",
      "('FP:', 60)\n",
      "The two models gave the same label to: 3751\n",
      "The two models gave the different label to: 426\n",
      "Accuracy: 89.80\n",
      "Precision: 52.38\n",
      "Recall: 15.28\n",
      "F_score: 23.66\n"
     ]
    }
   ],
   "source": [
    "Accuracy=100.0*(tp+tn)/(tp+tn+fp+fn)\n",
    "Precision=100.0*tp / (tp + fp)\n",
    "Recall = 100.0*tp / (tp + fn)\n",
    "F_score = 100.0*2*tp /(2*tp + fp + fn)\n",
    "print(\"Overlap-based TP and FP for PCA/SAX \")\n",
    "print (\"TP:\", tp)\n",
    "print (\"FP:\", fp)\n",
    "print (\"The two models gave the same label to: %s\" %(tp+tn))\n",
    "print (\"The two models gave the different label to: %s\" %(fp+fn))\n",
    "print(\"Accuracy: %.2f\" % Accuracy)\n",
    "print(\"Precision: %.2f\" % Precision)\n",
    "print(\"Recall: %.2f\" %Recall)\n",
    "print(\"F_score: %.2f\" % F_score)"
   ]
  },
  {
   "cell_type": "code",
   "execution_count": 8,
   "metadata": {},
   "outputs": [
    {
     "name": "stdout",
     "output_type": "stream",
     "text": [
      "(7, 25, 425, 3720)\n"
     ]
    }
   ],
   "source": [
    "#metrics for ARMA/SAX\n",
    "tn, fp, fn, tp=confusion_matrix(arma_predicted_labels['ATT_FLAG'], sax_predicted_labels).ravel()\n",
    "print(tp,fn,fp,tn)"
   ]
  },
  {
   "cell_type": "code",
   "execution_count": 9,
   "metadata": {},
   "outputs": [
    {
     "name": "stdout",
     "output_type": "stream",
     "text": [
      "Overlap-based TP and FP for ARMA/SAX \n",
      "('TP:', 7)\n",
      "('FP:', 425)\n",
      "The two models gave the same label to: 3727\n",
      "The two models gave the different label to: 450\n",
      "Accuracy: 89.23\n",
      "Precision: 1.62\n",
      "Recall: 21.88\n",
      "F_score: 3.02\n"
     ]
    }
   ],
   "source": [
    "Accuracy=100.0*(tp+tn)/(tp+tn+fp+fn)\n",
    "Precision=100.0*tp / (tp + fp)\n",
    "Recall = 100.0*tp / (tp + fn)\n",
    "F_score = 100.0*2*tp /(2*tp + fp + fn)\n",
    "print(\"Overlap-based TP and FP for ARMA/SAX \")\n",
    "print (\"TP:\", tp)\n",
    "print (\"FP:\", fp)\n",
    "print (\"The two models gave the same label to: %s\" %(tp+tn))\n",
    "print (\"The two models gave the different label to: %s\" %(fp+fn))\n",
    "print(\"Accuracy: %.2f\" % Accuracy)\n",
    "print(\"Precision: %.2f\" % Precision)\n",
    "print(\"Recall: %.2f\" %Recall)\n",
    "print(\"F_score: %.2f\" % F_score)"
   ]
  }
 ],
 "metadata": {
  "kernelspec": {
   "display_name": "Python 2",
   "language": "python",
   "name": "python2"
  },
  "language_info": {
   "codemirror_mode": {
    "name": "ipython",
    "version": 2
   },
   "file_extension": ".py",
   "mimetype": "text/x-python",
   "name": "python",
   "nbconvert_exporter": "python",
   "pygments_lexer": "ipython2",
   "version": "2.7.10"
  }
 },
 "nbformat": 4,
 "nbformat_minor": 2
}
